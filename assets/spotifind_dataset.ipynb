{
 "cells": [
  {
   "cell_type": "markdown",
   "metadata": {},
   "source": [
    "Step 1: Install Synthetic Data Vault"
   ]
  },
  {
   "cell_type": "code",
   "execution_count": 4,
   "metadata": {},
   "outputs": [
    {
     "name": "stdout",
     "output_type": "stream",
     "text": [
      "1.15.0\n"
     ]
    }
   ],
   "source": [
    "import sdv\n",
    "\n",
    "print(sdv.version.public)"
   ]
  },
  {
   "cell_type": "markdown",
   "metadata": {},
   "source": [
    "Step 2: Prepare the Data and Metadata"
   ]
  },
  {
   "cell_type": "code",
   "execution_count": 5,
   "metadata": {},
   "outputs": [],
   "source": [
    "import pandas as pd\n",
    "from sdv.metadata import MultiTableMetadata\n",
    "\n",
    "# Example data for Users table\n",
    "users_data = pd.DataFrame({\n",
    "    'user_id': range(1, 101),\n",
    "    'spotify_id': [f'spotify_{i}' for i in range(1, 101)],\n",
    "    'name': [f'user_{i}' for i in range(1, 101)],\n",
    "    'email': [f'user_{i}@example.com' for i in range(1, 101)],\n",
    "    'country': ['Country'] * 100,\n",
    "    'age': [20 + i % 10 for i in range(1, 101)]\n",
    "})\n",
    "\n",
    "# Example data for Tracks table\n",
    "tracks_data = pd.DataFrame({\n",
    "    'track_id': range(1, 201),\n",
    "    'title': [f'track_{i}' for i in range(1, 201)],\n",
    "    'artist': [f'artist_{i % 50}' for i in range(1, 201)],\n",
    "    'genre': ['genre'] * 200,\n",
    "    'release_date': pd.date_range(start='1/1/2020', periods=200)\n",
    "})\n",
    "\n",
    "# Example data for UserTrackInteractions table\n",
    "interactions_data = pd.DataFrame({\n",
    "    'interaction_id': range(1, 501),\n",
    "    'user_id': [i % 100 + 1 for i in range(1, 501)],\n",
    "    'track_id': [i % 200 + 1 for i in range(1, 501)],\n",
    "    'rating': [i % 5 + 1 for i in range(1, 501)],\n",
    "    'timestamp': pd.date_range(start='1/1/2021', periods=500, freq='H')\n",
    "})\n",
    "\n",
    "# Define metadata\n",
    "metadata_dict = {\n",
    "    \"METADATA_SPEC_VERSION\": \"MULTI_TABLE_V1\",\n",
    "    \"tables\": {\n",
    "        \"Users\": {\n",
    "            \"primary_key\": \"user_id\",\n",
    "            \"columns\": {\n",
    "                \"user_id\": {\"sdtype\": \"id\"},\n",
    "                \"spotify_id\": {\"sdtype\": \"text\"},\n",
    "                \"name\": {\"sdtype\": \"text\"},\n",
    "                \"email\": {\"sdtype\": \"email\"},\n",
    "                \"country\": {\"sdtype\": \"categorical\"},\n",
    "                \"age\": {\"sdtype\": \"numerical\"}\n",
    "            }\n",
    "        },\n",
    "        \"Tracks\": {\n",
    "            \"primary_key\": \"track_id\",\n",
    "            \"columns\": {\n",
    "                \"track_id\": {\"sdtype\": \"id\"},\n",
    "                \"title\": {\"sdtype\": \"text\"},\n",
    "                \"artist\": {\"sdtype\": \"text\"},\n",
    "                \"genre\": {\"sdtype\": \"categorical\"},\n",
    "                \"release_date\": {\"sdtype\": \"datetime\"}\n",
    "            }\n",
    "        },\n",
    "        \"UserTrackInteractions\": {\n",
    "            \"primary_key\": \"interaction_id\",\n",
    "            \"columns\": {\n",
    "                \"interaction_id\": {\"sdtype\": \"id\"},\n",
    "                \"user_id\": {\"sdtype\": \"id\"},\n",
    "                \"track_id\": {\"sdtype\": \"id\"},\n",
    "                \"rating\": {\"sdtype\": \"numerical\"},\n",
    "                \"timestamp\": {\"sdtype\": \"datetime\"}\n",
    "            }\n",
    "        }\n",
    "    },\n",
    "    \"relationships\": [\n",
    "        {\n",
    "            \"parent_table_name\": \"Users\",\n",
    "            \"parent_primary_key\": \"user_id\",\n",
    "            \"child_table_name\": \"UserTrackInteractions\",\n",
    "            \"child_foreign_key\": \"user_id\"\n",
    "        },\n",
    "        {\n",
    "            \"parent_table_name\": \"Tracks\",\n",
    "            \"parent_primary_key\": \"track_id\",\n",
    "            \"child_table_name\": \"UserTrackInteractions\",\n",
    "            \"child_foreign_key\": \"track_id\"\n",
    "        }\n",
    "    ]\n",
    "}\n",
    "\n",
    "metadata = MultiTableMetadata.load_from_dict(metadata_dict)\n"
   ]
  },
  {
   "cell_type": "markdown",
   "metadata": {},
   "source": [
    "Step 3: Create a Dataset Dictionary"
   ]
  },
  {
   "cell_type": "code",
   "execution_count": 6,
   "metadata": {},
   "outputs": [],
   "source": [
    "data = {\n",
    "    \"Users\": users_data,\n",
    "    \"Tracks\": tracks_data,\n",
    "    \"UserTrackInteractions\": interactions_data\n",
    "}\n"
   ]
  },
  {
   "cell_type": "code",
   "execution_count": 8,
   "metadata": {},
   "outputs": [
    {
     "name": "stderr",
     "output_type": "stream",
     "text": [
      "Preprocess Tables: 100%|██████████| 3/3 [00:02<00:00,  1.29it/s]\n"
     ]
    },
    {
     "name": "stdout",
     "output_type": "stream",
     "text": [
      "\n",
      "Learning relationships:\n"
     ]
    },
    {
     "name": "stderr",
     "output_type": "stream",
     "text": [
      "(1/2) Tables 'Users' and 'UserTrackInteractions' ('user_id'): 100%|██████████| 100/100 [00:06<00:00, 14.72it/s]\n",
      "(2/2) Tables 'Tracks' and 'UserTrackInteractions' ('track_id'): 100%|██████████| 200/200 [00:11<00:00, 16.92it/s]\n"
     ]
    },
    {
     "name": "stdout",
     "output_type": "stream",
     "text": [
      "\n"
     ]
    },
    {
     "name": "stderr",
     "output_type": "stream",
     "text": [
      "Modeling Tables: 100%|██████████| 3/3 [00:00<00:00,  7.01it/s]\n"
     ]
    }
   ],
   "source": [
    "from sdv.multi_table import HMASynthesizer\n",
    "\n",
    "synthesizer = HMASynthesizer(metadata)\n",
    "synthesizer.fit(data)\n",
    "\n",
    "synthetic_data = synthesizer.sample()\n"
   ]
  },
  {
   "cell_type": "code",
   "execution_count": 9,
   "metadata": {},
   "outputs": [
    {
     "data": {
      "text/html": [
       "<div>\n",
       "<style scoped>\n",
       "    .dataframe tbody tr th:only-of-type {\n",
       "        vertical-align: middle;\n",
       "    }\n",
       "\n",
       "    .dataframe tbody tr th {\n",
       "        vertical-align: top;\n",
       "    }\n",
       "\n",
       "    .dataframe thead th {\n",
       "        text-align: right;\n",
       "    }\n",
       "</style>\n",
       "<table border=\"1\" class=\"dataframe\">\n",
       "  <thead>\n",
       "    <tr style=\"text-align: right;\">\n",
       "      <th></th>\n",
       "      <th>user_id</th>\n",
       "      <th>spotify_id</th>\n",
       "      <th>name</th>\n",
       "      <th>email</th>\n",
       "      <th>country</th>\n",
       "      <th>age</th>\n",
       "    </tr>\n",
       "  </thead>\n",
       "  <tbody>\n",
       "    <tr>\n",
       "      <th>0</th>\n",
       "      <td>248989733</td>\n",
       "      <td>Drive he should. Exist old sing occur truth me...</td>\n",
       "      <td>According energy kid individual feeling. Kid m...</td>\n",
       "      <td>caitlinsnyder@example.com</td>\n",
       "      <td>Country</td>\n",
       "      <td>24</td>\n",
       "    </tr>\n",
       "    <tr>\n",
       "      <th>1</th>\n",
       "      <td>852025845</td>\n",
       "      <td>Character understand role group blue though or...</td>\n",
       "      <td>Pretty teacher card rule rock either as. Air a...</td>\n",
       "      <td>jacob89@example.net</td>\n",
       "      <td>Country</td>\n",
       "      <td>22</td>\n",
       "    </tr>\n",
       "    <tr>\n",
       "      <th>2</th>\n",
       "      <td>370288948</td>\n",
       "      <td>Pretty from future happen already finish. Than...</td>\n",
       "      <td>Political heart hand heart. Stay race finally ...</td>\n",
       "      <td>dkirby@example.com</td>\n",
       "      <td>Country</td>\n",
       "      <td>23</td>\n",
       "    </tr>\n",
       "    <tr>\n",
       "      <th>3</th>\n",
       "      <td>762713512</td>\n",
       "      <td>All must draw.\\nShake race campaign. Foot tech...</td>\n",
       "      <td>Ok water affect try. Situation cell wall piece...</td>\n",
       "      <td>nathan96@example.net</td>\n",
       "      <td>Country</td>\n",
       "      <td>22</td>\n",
       "    </tr>\n",
       "    <tr>\n",
       "      <th>4</th>\n",
       "      <td>647592843</td>\n",
       "      <td>Much head through.\\nFamily treat line have tou...</td>\n",
       "      <td>Add film activity imagine star usually though....</td>\n",
       "      <td>franciscocollins@example.com</td>\n",
       "      <td>Country</td>\n",
       "      <td>23</td>\n",
       "    </tr>\n",
       "  </tbody>\n",
       "</table>\n",
       "</div>"
      ],
      "text/plain": [
       "     user_id                                         spotify_id  \\\n",
       "0  248989733  Drive he should. Exist old sing occur truth me...   \n",
       "1  852025845  Character understand role group blue though or...   \n",
       "2  370288948  Pretty from future happen already finish. Than...   \n",
       "3  762713512  All must draw.\\nShake race campaign. Foot tech...   \n",
       "4  647592843  Much head through.\\nFamily treat line have tou...   \n",
       "\n",
       "                                                name  \\\n",
       "0  According energy kid individual feeling. Kid m...   \n",
       "1  Pretty teacher card rule rock either as. Air a...   \n",
       "2  Political heart hand heart. Stay race finally ...   \n",
       "3  Ok water affect try. Situation cell wall piece...   \n",
       "4  Add film activity imagine star usually though....   \n",
       "\n",
       "                          email  country  age  \n",
       "0     caitlinsnyder@example.com  Country   24  \n",
       "1           jacob89@example.net  Country   22  \n",
       "2            dkirby@example.com  Country   23  \n",
       "3          nathan96@example.net  Country   22  \n",
       "4  franciscocollins@example.com  Country   23  "
      ]
     },
     "execution_count": 9,
     "metadata": {},
     "output_type": "execute_result"
    }
   ],
   "source": [
    "synthetic_data[\"Users\"].head()"
   ]
  },
  {
   "cell_type": "code",
   "execution_count": 10,
   "metadata": {},
   "outputs": [],
   "source": [
    "synthetic_users = synthetic_data['Users']\n",
    "synthetic_tracks = synthetic_data['Tracks']\n",
    "synthetic_interactions = synthetic_data['UserTrackInteractions']\n",
    "\n",
    "synthetic_users.to_csv('synthetic_users.csv', index=False)\n",
    "synthetic_tracks.to_csv('synthetic_tracks.csv', index=False)\n",
    "synthetic_interactions.to_csv('synthetic_interactions.csv', index=False)\n"
   ]
  },
  {
   "cell_type": "code",
   "execution_count": null,
   "metadata": {},
   "outputs": [],
   "source": []
  }
 ],
 "metadata": {
  "kernelspec": {
   "display_name": "snowpark-ml",
   "language": "python",
   "name": "python3"
  },
  "language_info": {
   "codemirror_mode": {
    "name": "ipython",
    "version": 3
   },
   "file_extension": ".py",
   "mimetype": "text/x-python",
   "name": "python",
   "nbconvert_exporter": "python",
   "pygments_lexer": "ipython3",
   "version": "3.11.9"
  }
 },
 "nbformat": 4,
 "nbformat_minor": 2
}
